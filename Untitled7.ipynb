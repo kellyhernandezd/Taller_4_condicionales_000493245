{
  "nbformat": 4,
  "nbformat_minor": 0,
  "metadata": {
    "colab": {
      "provenance": [],
      "authorship_tag": "ABX9TyMtSDaLuzfEXxgwq1XZVlTl",
      "include_colab_link": true
    },
    "kernelspec": {
      "name": "python3",
      "display_name": "Python 3"
    },
    "language_info": {
      "name": "python"
    }
  },
  "cells": [
    {
      "cell_type": "markdown",
      "metadata": {
        "id": "view-in-github",
        "colab_type": "text"
      },
      "source": [
        "<a href=\"https://colab.research.google.com/github/kellyhernandezd/Taller_4_condicionales_000493245/blob/main/Untitled7.ipynb\" target=\"_parent\"><img src=\"https://colab.research.google.com/assets/colab-badge.svg\" alt=\"Open In Colab\"/></a>"
      ]
    },
    {
      "cell_type": "markdown",
      "source": [
        "KELLY HERNANDEZ DIAZ - 000493245"
      ],
      "metadata": {
        "id": "SGnmkzc6lOnA"
      }
    },
    {
      "cell_type": "markdown",
      "source": [
        "PROBLEMA 1: Calculadora de calificaciones\n",
        "\n",
        "Escribe un programa en python que solicite al usuario ingresar una calificación númerica (de 0 a 5) y luego muestre un mensaje que diga si el estudiante aprobó o reprobó.  Utiliza una estructura selectiva doble (if - else)"
      ],
      "metadata": {
        "id": "G-pImH7dk9Qr"
      }
    },
    {
      "cell_type": "code",
      "execution_count": 6,
      "metadata": {
        "colab": {
          "base_uri": "https://localhost:8080/"
        },
        "id": "6wOTX2HrduJe",
        "outputId": "6488e39c-1cd1-44ab-f1a5-59120d7b1a2a"
      },
      "outputs": [
        {
          "output_type": "stream",
          "name": "stdout",
          "text": [
            "ingrese la calificación (de 0 a 5): 3.5\n",
            "El estudiante aprobó. \n"
          ]
        }
      ],
      "source": [
        "# solicitar al usuario  ingresar una calificación\n",
        "calificación = float(input(\"ingrese la calificación (de 0 a 5): \"))\n",
        "\n",
        "# verificar si la calificación está en el rango permitido\n",
        "if calificación >= 0 and calificación <= 5:\n",
        "  # verificar si el estudiante aprobó (calificación mayor o igual a 3)\n",
        "  if calificación >= 3:\n",
        "      print(\"El estudiante aprobó. \")\n",
        "  else:\n",
        "      print(\"El estudiante reprobó. \")\n",
        "\n",
        "else:\n",
        "       print(\"la calificación ingresada no está en el rangonpermitido  (de 0 a 5). \")"
      ]
    },
    {
      "cell_type": "markdown",
      "source": [
        "PROBLEMA 2: Verificar si un número es npositivo, negativo o cero\n",
        "Escriba un programa en python que solicite al usuario ingresar un número y luego determine e imprima si el número es positivo, negativo o cero utilizando estructuras selectivas doble (if-else)\n",
        "\n"
      ],
      "metadata": {
        "id": "k3MLLQ1olL7l"
      }
    },
    {
      "cell_type": "code",
      "source": [
        "# Solicitar al usuario ingresar un número\n",
        "numero = float(input(\"ingresar un número: \"))\n",
        "\n",
        "# verificar si el número es positivo, negativo o cero\n",
        "if numero > 0:\n",
        "  print(\"El numero es positivo\")\n",
        "elif numero < 0:\n",
        "  print(\"El número es negativo\")\n",
        "else:\n",
        "  print(\"El numero es cero\")"
      ],
      "metadata": {
        "colab": {
          "base_uri": "https://localhost:8080/"
        },
        "id": "N3MXMgqUnJva",
        "outputId": "600d6922-2b0c-4fcb-c347-2d9dd93d351b"
      },
      "execution_count": 10,
      "outputs": [
        {
          "output_type": "stream",
          "name": "stdout",
          "text": [
            "ingresar un número: -5\n",
            "El número es negativo\n"
          ]
        }
      ]
    },
    {
      "cell_type": "markdown",
      "source": [
        "PROBLEMA 3: Validació de contraseña\n",
        "Escribe un programa en python que solicite al usuario ingresar una contraseña.Si la contraseña es \"python 123\", el programa debe imprimir \"contraseña incorrecta\". De lo contrario, debe imprimir \"contraseña correcta\". Utiliza una estructura selectiva doble (if-else)\n"
      ],
      "metadata": {
        "id": "VpWAQP_wpA-a"
      }
    },
    {
      "cell_type": "code",
      "source": [
        "# Solicitar al usuario ingresar una contraseña\n",
        "\n",
        "contrasena_ingresada = input(\"ingrese una contrasena: \")\n",
        "contrasena_valida = \"python123\"\n",
        "\n",
        "if contrasena_ingresada == contrasena_valida:\n",
        "  print(\"contraseña válida\")\n",
        "\n",
        "else:\n",
        "  print(\"contraseña incoreecta\")\n",
        "\n"
      ],
      "metadata": {
        "colab": {
          "base_uri": "https://localhost:8080/"
        },
        "id": "9WfIsx7-qGg0",
        "outputId": "3c5064f1-3af8-47fc-e1e9-766186f4ee27"
      },
      "execution_count": 14,
      "outputs": [
        {
          "output_type": "stream",
          "name": "stdout",
          "text": [
            "ingrese una contrasena: python123\n",
            "contraseña válida\n"
          ]
        }
      ]
    },
    {
      "cell_type": "markdown",
      "source": [
        "PROBLEMA 4: Determinar si un número es par o impar\n",
        "Escribe un programa en python que solicite al usuario ingresar cinco números y luego determine e imprima si el número es par e impar utilizando una estructura selectiva doble (if-else)"
      ],
      "metadata": {
        "id": "XJIHfB0muKj4"
      }
    },
    {
      "cell_type": "code",
      "source": [
        " numero = int(input(\"ingrese un número: \"))\n",
        " if numero % 2 == 0:\n",
        "   print(\"el numero es par.\")\n",
        "else:\n",
        "    print(\"el numero es impar. \")"
      ],
      "metadata": {
        "colab": {
          "base_uri": "https://localhost:8080/"
        },
        "id": "FfATudDdurRw",
        "outputId": "aacc7c49-f85d-44b1-b720-5e5d228f257c"
      },
      "execution_count": 18,
      "outputs": [
        {
          "output_type": "stream",
          "name": "stdout",
          "text": [
            "ingrese un número: 7\n",
            "el numero es impar. \n"
          ]
        }
      ]
    },
    {
      "cell_type": "markdown",
      "source": [
        "PROBLEMA 5: determinar el número mayor\n",
        "Escribe un programa en python que solicite al usuario ingresar cinco números y luego determiune e imprima cuál de los cinco números es mayor utilizando estructuras doble (if-else)"
      ],
      "metadata": {
        "id": "yVvsU6pRvagZ"
      }
    },
    {
      "cell_type": "code",
      "source": [
        "numeros = []\n",
        "for i in range(5):\n",
        "  numero = float(input(f\"ingrese el numero {i+1}: \"))\n",
        "  numeros.append(numero)\n",
        "\n",
        "mayor = numeros [0]\n",
        "\n",
        "for numero in numeros:\n",
        "  if numero > mayor:\n",
        "    mayor = numero\n",
        "\n",
        "    print(f\"El numero mayor es: {mayor}\")"
      ],
      "metadata": {
        "colab": {
          "base_uri": "https://localhost:8080/"
        },
        "id": "UD7qvffLv7MR",
        "outputId": "7830457b-1e27-457d-eedb-dd35c7bfceb7"
      },
      "execution_count": 23,
      "outputs": [
        {
          "output_type": "stream",
          "name": "stdout",
          "text": [
            "ingrese el numero 1: 5\n",
            "ingrese el numero 2: 8\n",
            "ingrese el numero 3: 3\n",
            "ingrese el numero 4: 2\n",
            "ingrese el numero 5: 9\n",
            "El numero mayor es: 8.0\n",
            "El numero mayor es: 9.0\n"
          ]
        }
      ]
    },
    {
      "cell_type": "markdown",
      "source": [
        "EJERCICIO NUMERO6: Categorizar edades\n",
        "\n",
        "Escribe un programa en python que solicite al usuario ingresar una edad y determine e imprima en que categoria se encuentra la persona: \"niño\"(0-12 años), \"adolescent\" (13-19 años), \"adulto\" (20-64) o \"adulto mayor\" (65 o más años)"
      ],
      "metadata": {
        "id": "Xqi3AO7CxTWz"
      }
    },
    {
      "cell_type": "code",
      "source": [
        "edad = int(input(\"ingrese su edad: \"))\n",
        "if edad >= 0 and edad <= 12:\n",
        "  categoria = \"niño\"\n",
        "elif edad >= 13 and edad <= 19:\n",
        "  categoria = \"adolescente\"\n",
        "elif edad >= 20 and edad <= 64:\n",
        "  categoria = \"adulto\"\n",
        "else:\n",
        "  categoria = \"adulto mayor\"\n",
        "\n",
        "print(f\"la persona se encuentra en la categoria de: {categoria}\")"
      ],
      "metadata": {
        "colab": {
          "base_uri": "https://localhost:8080/"
        },
        "id": "fZy8TISIyIHO",
        "outputId": "dc595649-606c-4dc6-cc64-d2a3e6c3d0e1"
      },
      "execution_count": 29,
      "outputs": [
        {
          "output_type": "stream",
          "name": "stdout",
          "text": [
            "ingrese su edad: 23\n",
            "la persona se encuentra en la categoria de: adulto\n"
          ]
        }
      ]
    }
  ]
}